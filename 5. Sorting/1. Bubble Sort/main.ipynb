{
 "cells": [
  {
   "cell_type": "code",
   "execution_count": 1,
   "metadata": {},
   "outputs": [
    {
     "name": "stdout",
     "output_type": "stream",
     "text": [
      "data yang di urutkan = [10, 2, 5, 8, 1, 20, 2, 2, 4]\n",
      "outIter = 8\n",
      "iterasi ke - 1\n",
      "outIter = [2, 10, 5, 8, 1, 20, 2, 2, 4]\n",
      "outIter = [2, 5, 10, 8, 1, 20, 2, 2, 4]\n",
      "outIter = [2, 5, 8, 10, 1, 20, 2, 2, 4]\n",
      "outIter = [2, 5, 8, 1, 10, 20, 2, 2, 4]\n",
      "outIter = [2, 5, 8, 1, 10, 20, 2, 2, 4]\n",
      "outIter = [2, 5, 8, 1, 10, 2, 20, 2, 4]\n",
      "outIter = [2, 5, 8, 1, 10, 2, 2, 20, 4]\n",
      "outIter = [2, 5, 8, 1, 10, 2, 2, 4, 20]\n",
      "data yang telah diurut = [2, 5, 8, 1, 10, 2, 2, 4, 20]\n",
      "outIter = 7\n",
      "iterasi ke - 2\n",
      "outIter = [2, 5, 8, 1, 10, 2, 2, 4, 20]\n",
      "outIter = [2, 5, 8, 1, 10, 2, 2, 4, 20]\n",
      "outIter = [2, 5, 1, 8, 10, 2, 2, 4, 20]\n",
      "outIter = [2, 5, 1, 8, 10, 2, 2, 4, 20]\n",
      "outIter = [2, 5, 1, 8, 2, 10, 2, 4, 20]\n",
      "outIter = [2, 5, 1, 8, 2, 2, 10, 4, 20]\n",
      "outIter = [2, 5, 1, 8, 2, 2, 4, 10, 20]\n",
      "data yang telah diurut = [2, 5, 1, 8, 2, 2, 4, 10, 20]\n",
      "outIter = 6\n",
      "iterasi ke - 3\n",
      "outIter = [2, 5, 1, 8, 2, 2, 4, 10, 20]\n",
      "outIter = [2, 1, 5, 8, 2, 2, 4, 10, 20]\n",
      "outIter = [2, 1, 5, 8, 2, 2, 4, 10, 20]\n",
      "outIter = [2, 1, 5, 2, 8, 2, 4, 10, 20]\n",
      "outIter = [2, 1, 5, 2, 2, 8, 4, 10, 20]\n",
      "outIter = [2, 1, 5, 2, 2, 4, 8, 10, 20]\n",
      "data yang telah diurut = [2, 1, 5, 2, 2, 4, 8, 10, 20]\n",
      "outIter = 5\n",
      "iterasi ke - 4\n",
      "outIter = [1, 2, 5, 2, 2, 4, 8, 10, 20]\n",
      "outIter = [1, 2, 5, 2, 2, 4, 8, 10, 20]\n",
      "outIter = [1, 2, 2, 5, 2, 4, 8, 10, 20]\n",
      "outIter = [1, 2, 2, 2, 5, 4, 8, 10, 20]\n",
      "outIter = [1, 2, 2, 2, 4, 5, 8, 10, 20]\n",
      "data yang telah diurut = [1, 2, 2, 2, 4, 5, 8, 10, 20]\n",
      "outIter = 4\n",
      "iterasi ke - 5\n",
      "outIter = [1, 2, 2, 2, 4, 5, 8, 10, 20]\n",
      "outIter = [1, 2, 2, 2, 4, 5, 8, 10, 20]\n",
      "outIter = [1, 2, 2, 2, 4, 5, 8, 10, 20]\n",
      "outIter = [1, 2, 2, 2, 4, 5, 8, 10, 20]\n",
      "data yang telah diurut = [1, 2, 2, 2, 4, 5, 8, 10, 20]\n",
      "outIter = 3\n",
      "iterasi ke - 6\n",
      "outIter = [1, 2, 2, 2, 4, 5, 8, 10, 20]\n",
      "outIter = [1, 2, 2, 2, 4, 5, 8, 10, 20]\n",
      "outIter = [1, 2, 2, 2, 4, 5, 8, 10, 20]\n",
      "data yang telah diurut = [1, 2, 2, 2, 4, 5, 8, 10, 20]\n",
      "outIter = 2\n",
      "iterasi ke - 7\n",
      "outIter = [1, 2, 2, 2, 4, 5, 8, 10, 20]\n",
      "outIter = [1, 2, 2, 2, 4, 5, 8, 10, 20]\n",
      "data yang telah diurut = [1, 2, 2, 2, 4, 5, 8, 10, 20]\n",
      "outIter = 1\n",
      "iterasi ke - 8\n",
      "outIter = [1, 2, 2, 2, 4, 5, 8, 10, 20]\n",
      "data yang telah diurut = [1, 2, 2, 2, 4, 5, 8, 10, 20]\n",
      "outIter = 0\n",
      "iterasi ke - 9\n",
      "data yang telah diurut = [1, 2, 2, 2, 4, 5, 8, 10, 20]\n"
     ]
    }
   ],
   "source": [
    "data = [10,2,5,8,1,20,2,2,4]\n",
    "print(f'data yang di urutkan = {data}')\n",
    "count = 0\n",
    "for outIter in range(len(data)-1,-1,-1):\n",
    "    print(f'outIter = {outIter}')\n",
    "    count += 1\n",
    "    print(f'iterasi ke - {count}')\n",
    "    for i in range(outIter):\n",
    "        if data[i] > data[i+1]:\n",
    "            temp = data[i]\n",
    "            data[i] = data[i+1]\n",
    "            data[i+1] = temp\n",
    "        print(f'outIter = {data}')\n",
    "    print(f'data yang telah diurut = {data}')\n"
   ]
  },
  {
   "cell_type": "code",
   "execution_count": 3,
   "metadata": {},
   "outputs": [
    {
     "name": "stdout",
     "output_type": "stream",
     "text": [
      "[1, 2, 3, 4, 5]\n"
     ]
    }
   ],
   "source": [
    "data = [1,2,5,4,3]\n",
    "for i in range(len(data)-1,-1,-1):\n",
    "    check = False\n",
    "    for j in range(i):\n",
    "        # print('iterasi ke',i)\n",
    "        if data[j] > data[j+1]:\n",
    "            temp = data[j]\n",
    "            data[j] = data[j+1]\n",
    "            data[j+1] = temp\n",
    "            check = True\n",
    "    if not check:\n",
    "        break\n",
    "print(data)\n"
   ]
  },
  {
   "cell_type": "code",
   "execution_count": 33,
   "metadata": {},
   "outputs": [
    {
     "name": "stdout",
     "output_type": "stream",
     "text": [
      "data = [10, 3, 2, 1]\n",
      "iterasi ke - 1 --> jumlah iterasi = 3\n",
      "    [3, 10, 2, 1]\n",
      "    [3, 2, 10, 1]\n",
      "    [3, 2, 1, 10]\n",
      "iterasi ke - 2 --> jumlah iterasi = 2\n",
      "    [2, 3, 1, 10]\n",
      "    [2, 1, 3, 10]\n",
      "iterasi ke - 3 --> jumlah iterasi = 1\n",
      "    [1, 2, 3, 10]\n",
      "data urut = [1, 2, 3, 10]\n"
     ]
    }
   ],
   "source": [
    "data = [10,3,2,1]\n",
    "print(f'data = {data}')\n",
    "for i in range(len(data)-1,0,-1):\n",
    "    print(f'iterasi ke - {len(data)-i} --> jumlah iterasi = {i}')\n",
    "    check = False\n",
    "    for j in range(i):\n",
    "        if data[j] > data[j+1]:\n",
    "            data[j],data[j+1] = data[j+1],data[j]\n",
    "            check = True\n",
    "        print(f\"    {data}\")\n",
    "print(f'data urut = {data}')\n"
   ]
  },
  {
   "cell_type": "code",
   "execution_count": 37,
   "metadata": {},
   "outputs": [
    {
     "name": "stdout",
     "output_type": "stream",
     "text": [
      "iterasi ke - 1 --> jumlah iterasi = 3\n",
      "1 = [1, 2, 5, 4]\n",
      "2 = [1, 2, 5, 4]\n",
      "3 = [1, 2, 4, 5]\n",
      "\n",
      "iterasi ke - 2 --> jumlah iterasi = 2\n",
      "1 = [1, 2, 4, 5]\n",
      "2 = [1, 2, 4, 5]\n",
      "\n",
      "iterasi ke - 3 --> jumlah iterasi = 1\n",
      "1 = [1, 2, 4, 5]\n",
      "\n",
      "data urut = [1, 2, 4, 5]\n"
     ]
    }
   ],
   "source": [
    "def customBubbleSort(data):\n",
    "    swap = True\n",
    "    total = len(data)-1\n",
    "\n",
    "    while swap and total > 0:\n",
    "        geser = False\n",
    "        i = 0\n",
    "        print(f'iterasi ke - {len(data)-total} --> jumlah iterasi = {total}')\n",
    "        while i < total:\n",
    "            if data[i] > data[i+1]:\n",
    "                swap = True\n",
    "                data[i],data[i+1] = data[i+1],data[i]\n",
    "            print(f'{i+1} = {data}')\n",
    "            i += 1\n",
    "        print()\n",
    "        total -= 1\n",
    "    print(f'data urut = {data}')\n",
    "\n",
    "data = [1,2,5,4]\n",
    "customBubbleSort(data)\n",
    "        "
   ]
  },
  {
   "cell_type": "code",
   "execution_count": 38,
   "metadata": {},
   "outputs": [
    {
     "name": "stdout",
     "output_type": "stream",
     "text": [
      "Iterasi ke-1\t Jumlah Iterasi= 4\n",
      "1  =  [1, 2, 3, 5, 4]\n",
      "2  =  [1, 2, 3, 5, 4]\n",
      "3  =  [1, 2, 3, 5, 4]\n",
      "4  =  [1, 2, 3, 4, 5]\n",
      "\n",
      "Iterasi ke-2\t Jumlah Iterasi= 3\n",
      "1  =  [1, 2, 3, 4, 5]\n",
      "2  =  [1, 2, 3, 4, 5]\n",
      "3  =  [1, 2, 3, 4, 5]\n",
      "\n",
      "Data terurut = [1, 2, 3, 4, 5]\n"
     ]
    }
   ],
   "source": [
    "def customBubbleSort(data):\n",
    "    geser = True\n",
    "    total = len(data)-1\n",
    "    \n",
    "    while geser and total > 0:\n",
    "        geser = False\n",
    "        print(\"Iterasi ke-{0}\\t Jumlah Iterasi= {1}\".format(len(data)-total, total))\n",
    "        i = 0\n",
    "        while i < total:\n",
    "            if data[i] > data[i+1]:\n",
    "                geser = True\n",
    "                data[i], data[i + 1] = data[i + 1], data[i]\n",
    "            print(i + 1, \" = \", data)\n",
    "            i+=1\n",
    "        \n",
    "        print(\"\")\n",
    "        total = total - 1\n",
    "        \n",
    "    print(\"Data terurut =\", data)\n",
    "            \n",
    "data = [1,2,3,5,4]\n",
    "customBubbleSort(data)"
   ]
  },
  {
   "cell_type": "code",
   "execution_count": 2,
   "metadata": {},
   "outputs": [
    {
     "name": "stdout",
     "output_type": "stream",
     "text": [
      "data = [13, 12, 10, 8, 7, 5, 11, 2]\n",
      "\n",
      "iterasi luar ke-1 -> jumlah iterasi dalam = 7 iterasi\n",
      "\n",
      "    1. [12, 13, 10, 8, 7, 5, 11, 2]\n",
      "    2. [12, 10, 13, 8, 7, 5, 11, 2]\n",
      "    3. [12, 10, 8, 13, 7, 5, 11, 2]\n",
      "    4. [12, 10, 8, 7, 13, 5, 11, 2]\n",
      "    5. [12, 10, 8, 7, 5, 13, 11, 2]\n",
      "    6. [12, 10, 8, 7, 5, 11, 13, 2]\n",
      "    7. [12, 10, 8, 7, 5, 11, 2, 13]\n",
      "\n",
      "iterasi luar ke-2 -> jumlah iterasi dalam = 6 iterasi\n",
      "\n",
      "    1. [10, 12, 8, 7, 5, 11, 2, 13]\n",
      "    2. [10, 8, 12, 7, 5, 11, 2, 13]\n",
      "    3. [10, 8, 7, 12, 5, 11, 2, 13]\n",
      "    4. [10, 8, 7, 5, 12, 11, 2, 13]\n",
      "    5. [10, 8, 7, 5, 11, 12, 2, 13]\n",
      "    6. [10, 8, 7, 5, 11, 2, 12, 13]\n",
      "\n",
      "iterasi luar ke-3 -> jumlah iterasi dalam = 5 iterasi\n",
      "\n",
      "    1. [8, 10, 7, 5, 11, 2, 12, 13]\n",
      "    2. [8, 7, 10, 5, 11, 2, 12, 13]\n",
      "    3. [8, 7, 5, 10, 11, 2, 12, 13]\n",
      "    4. [8, 7, 5, 10, 11, 2, 12, 13]\n",
      "    5. [8, 7, 5, 10, 2, 11, 12, 13]\n",
      "\n",
      "iterasi luar ke-4 -> jumlah iterasi dalam = 4 iterasi\n",
      "\n",
      "    1. [7, 8, 5, 10, 2, 11, 12, 13]\n",
      "    2. [7, 5, 8, 10, 2, 11, 12, 13]\n",
      "    3. [7, 5, 8, 10, 2, 11, 12, 13]\n",
      "    4. [7, 5, 8, 2, 10, 11, 12, 13]\n",
      "\n",
      "iterasi luar ke-5 -> jumlah iterasi dalam = 3 iterasi\n",
      "\n",
      "    1. [5, 7, 8, 2, 10, 11, 12, 13]\n",
      "    2. [5, 7, 8, 2, 10, 11, 12, 13]\n",
      "    3. [5, 7, 2, 8, 10, 11, 12, 13]\n",
      "\n",
      "iterasi luar ke-6 -> jumlah iterasi dalam = 2 iterasi\n",
      "\n",
      "    1. [5, 7, 2, 8, 10, 11, 12, 13]\n",
      "    2. [5, 2, 7, 8, 10, 11, 12, 13]\n",
      "\n",
      "iterasi luar ke-7 -> jumlah iterasi dalam = 1 iterasi\n",
      "\n",
      "    1. [2, 5, 7, 8, 10, 11, 12, 13]\n",
      "\n",
      "data terurut = [2, 5, 7, 8, 10, 11, 12, 13]\n",
      "\n"
     ]
    }
   ],
   "source": [
    "def bubbleSort(data):\n",
    "    print(f'data = {data}')\n",
    "    for i in range(len(data)-1,0,-1):\n",
    "        print(f'\\niterasi luar ke-{len(data)-i} -> jumlah iterasi dalam = {i} iterasi\\n')\n",
    "        for j in range(i):\n",
    "            if data[j] > data[j+1]:\n",
    "                data[j],data[j+1] = data[j+1],data[j]\n",
    "            print(f'    {j+1}. {data}')\n",
    "    print(f'\\ndata terurut = {data}\\n')\n",
    "\n",
    "\n",
    "data = [13, 12, 10, 8, 7, 5, 11, 2]\n",
    "bubbleSort(data)"
   ]
  }
 ],
 "metadata": {
  "kernelspec": {
   "display_name": "Python 3",
   "language": "python",
   "name": "python3"
  },
  "language_info": {
   "codemirror_mode": {
    "name": "ipython",
    "version": 3
   },
   "file_extension": ".py",
   "mimetype": "text/x-python",
   "name": "python",
   "nbconvert_exporter": "python",
   "pygments_lexer": "ipython3",
   "version": "3.10.6"
  },
  "orig_nbformat": 4
 },
 "nbformat": 4,
 "nbformat_minor": 2
}
