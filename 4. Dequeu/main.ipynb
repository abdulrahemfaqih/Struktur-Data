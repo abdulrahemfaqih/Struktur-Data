{
 "cells": [
  {
   "cell_type": "code",
   "execution_count": 24,
   "metadata": {},
   "outputs": [
    {
     "data": {
      "text/plain": [
       "False"
      ]
     },
     "execution_count": 24,
     "metadata": {},
     "output_type": "execute_result"
    }
   ],
   "source": [
    "def createDueue():\n",
    "    d = []\n",
    "    return d\n",
    "def addFront(d,data):\n",
    "    d.insert(0,data)   \n",
    "    return(d)\n",
    "def addRear(d,data):\n",
    "    d.append(data)\n",
    "    return d\n",
    "def removeFront(d):\n",
    "    d.pop(0)\n",
    "    return d\n",
    "def removeRear(d):\n",
    "    d.pop()  \n",
    "    return d\n",
    "def isEmpty(d):\n",
    "    return d == 0\n",
    "def size(d):\n",
    "    return len(d)\n",
    "\n",
    "d = createDueue()\n",
    "\n",
    "\n"
   ]
  },
  {
   "cell_type": "code",
   "execution_count": 1,
   "metadata": {},
   "outputs": [
    {
     "name": "stdout",
     "output_type": "stream",
     "text": [
      "True\n"
     ]
    }
   ],
   "source": [
    "def check(string):\n",
    "    temp = []\n",
    "    for char in string:\n",
    "        temp.insert(0,char)\n",
    "    result = ''.join(temp)\n",
    "    if string == result:\n",
    "        return True\n",
    "    else:return False\n",
    "\n",
    "print(check('hannah'))"
   ]
  },
  {
   "cell_type": "code",
   "execution_count": 3,
   "metadata": {},
   "outputs": [
    {
     "name": "stdout",
     "output_type": "stream",
     "text": [
      "True\n"
     ]
    }
   ],
   "source": [
    "def createDeque():\n",
    "    d = []\n",
    "    return d\n",
    "def addFront(d,data):\n",
    "    d.insert(0,data)   \n",
    "    return(d)\n",
    "def addRear(d,data):\n",
    "    d.append(data)\n",
    "    return d\n",
    "def removeFront(d):\n",
    "    d.pop(0)\n",
    "    return d\n",
    "def removeRear(d):\n",
    "    d.pop()  \n",
    "    return d\n",
    "def isEmpty(d):\n",
    "    return d == 0\n",
    "def size(d):\n",
    "    return len(d)\n",
    "\n",
    "# def checkPalindrom(str):\n",
    "#     palindrom = createDeque()\n",
    "#     for char in str:\n",
    "#         addRear(palindrom, char)\n",
    "#     cek = True\n",
    "#     while size(palindrom) > 1:\n",
    "#         a = removeRear(palindrom)\n",
    "#         b = removeFront(palindrom)\n",
    "#         if a == b:\n",
    "#             cek = cek and True\n",
    "#         else:\n",
    "#             cek = cek and False\n",
    "#     return cek\n",
    "\n",
    "def cekPalindrom(string):    \n",
    "    palindrom=createDeque()    \n",
    "    for huruf in string:        \n",
    "        addRear(palindrom,huruf)    \n",
    "    cek=True\n",
    "    while size(palindrom)>1:       \n",
    "        a=removeRear(palindrom)        \n",
    "        b=removeFront(palindrom)        \n",
    "        if (a==b):            \n",
    "            cek=cek and True\n",
    "        else:            \n",
    "            cek=cek and False\n",
    "    return cek\n",
    "print(cekPalindrom('farish'))\n",
    "    \n",
    "    \n"
   ]
  },
  {
   "cell_type": "code",
   "execution_count": 5,
   "metadata": {},
   "outputs": [
    {
     "name": "stdout",
     "output_type": "stream",
     "text": [
      "False\n"
     ]
    }
   ],
   "source": [
    "def createDeque():\n",
    "    d=[]\n",
    "    return (d)\n",
    "def addFront(d,data):\n",
    "    d.insert(0,data)\n",
    "    return(d)\n",
    "def addRear(d,data):\n",
    "    d.append(data)\n",
    "    return(d)\n",
    "def removeRear(d):\n",
    "    data=d.pop()\n",
    "    return(data)\n",
    "def removeFront(d):\n",
    "    data=d.pop(0)\n",
    "    return(data)\n",
    "def isEmpty(d):\n",
    "    return (d==[])\n",
    "def size(d):\n",
    "    return (len(d))\n",
    "\n",
    "\n",
    "def cekPalindrom(string):\n",
    "    palindrom=createDeque()\n",
    "    for huruf in string:\n",
    "        addRear(palindrom,huruf)\n",
    "    cek=True\n",
    "    while size(palindrom)>1:\n",
    "        a=removeRear(palindrom)\n",
    "        b=removeFront(palindrom)\n",
    "        if a == b:\n",
    "            cek = cek and True\n",
    "        else:\n",
    "            cek = cek and False\n",
    "            \n",
    "    return cek\n",
    "\n",
    "print(cekPalindrom('hannah'))\n"
   ]
  },
  {
   "cell_type": "code",
   "execution_count": 6,
   "metadata": {},
   "outputs": [
    {
     "name": "stdout",
     "output_type": "stream",
     "text": [
      "True\n"
     ]
    }
   ],
   "source": [
    "def checkSort(strNum):\n",
    "    nums = []\n",
    "    for num in strNum:\n",
    "        nums.append(num)\n",
    "    check = True\n",
    "    while len(nums) > 1:\n",
    "        first = nums.pop(0)\n",
    "        second = nums.pop(1)\n",
    "        if first < second or first == second:\n",
    "            check = check and True\n",
    "        else:\n",
    "            check = check and False\n",
    "    return check\n",
    "print(checkSort('1323456'))"
   ]
  },
  {
   "cell_type": "code",
   "execution_count": 17,
   "metadata": {},
   "outputs": [
    {
     "name": "stdout",
     "output_type": "stream",
     "text": [
      "4\n"
     ]
    }
   ],
   "source": [
    "def sumNums():\n",
    "    firstNum = int(input(\"first num = \"))\n",
    "    secondNum = int(input(\"second num = \"))\n",
    "    print(f'result = {firstNum + secondNum}')\n",
    "sumNums()\n"
   ]
  },
  {
   "cell_type": "code",
   "execution_count": 14,
   "metadata": {},
   "outputs": [
    {
     "name": "stdout",
     "output_type": "stream",
     "text": [
      "First Name = l\n",
      "First Name = l\n"
     ]
    }
   ],
   "source": [
    "def print_firstName_and_lastName():\n",
    "    fullName = input(\"input name = \")\n",
    "    listName = fullName.split()\n",
    "    print(f'First Name = {listName[0]}')\n",
    "    print(f'Last Name = {listName[-1]}')\n",
    "print_firstName_and_lastName()\n",
    "print()"
   ]
  },
  {
   "cell_type": "code",
   "execution_count": 16,
   "metadata": {},
   "outputs": [
    {
     "name": "stdout",
     "output_type": "stream",
     "text": [
      "firstNum = abdul\n",
      "middle name = rahem\n",
      "last name = faqih\n"
     ]
    }
   ],
   "source": [
    "def printFullName(fullName):\n",
    "    listName = fullName.split()\n",
    "    lenName = len(listName)\n",
    "    print(f'first name = {listName[0]}')\n",
    "    if lenName > 2:\n",
    "        for i in range(1,lenName - 1):\n",
    "            print(f'middle name = {listName[i]}')\n",
    "    print(f'last name = {listName[-1]}')\n",
    "fullName = input('input name = ')\n",
    "printFullName(fullName)\n",
    "\n",
    "print()\n"
   ]
  },
  {
   "cell_type": "code",
   "execution_count": 8,
   "metadata": {},
   "outputs": [
    {
     "name": "stdout",
     "output_type": "stream",
     "text": [
      "[]\n"
     ]
    }
   ],
   "source": [
    "def reversedList():\n",
    "    list = createDeque()\n",
    "    amountOfData = int(input('jumlah data = '))\n",
    "    for i in range(1, amountOfData + 1):\n",
    "        data = int(input(f'data - {i} = '))\n",
    "        addRear(list, data)\n",
    "    result = []\n",
    "    for i in range(len(list)):\n",
    "        temp = removeRear(list)\n",
    "        addFront(list, temp)\n",
    "    print(result)\n",
    "\n",
    "reversedList()\n",
    "    \n",
    "    "
   ]
  }
 ],
 "metadata": {
  "kernelspec": {
   "display_name": "Python 3",
   "language": "python",
   "name": "python3"
  },
  "language_info": {
   "codemirror_mode": {
    "name": "ipython",
    "version": 3
   },
   "file_extension": ".py",
   "mimetype": "text/x-python",
   "name": "python",
   "nbconvert_exporter": "python",
   "pygments_lexer": "ipython3",
   "version": "3.10.6"
  },
  "orig_nbformat": 4
 },
 "nbformat": 4,
 "nbformat_minor": 2
}
