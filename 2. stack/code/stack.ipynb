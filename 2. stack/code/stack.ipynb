{
 "cells": [
  {
   "attachments": {},
   "cell_type": "markdown",
   "metadata": {},
   "source": [
    "Stack(tumpukan)\n",
    "Stacks adalah satu struktur data dimana penambahan dan penghapusan data, hanya dapat dilakukan pada satu ujung yang sama atau yang biasa dilakukan dengan istilah top."
   ]
  },
  {
   "attachments": {},
   "cell_type": "markdown",
   "metadata": {},
   "source": [
    "1.1 Operasi pada stack\n",
    "1. stack() - inisialiasai stack yang kosong\n",
    "\n",
    "2. push(data) - penambahan data baru pada posisi top dari stack\n",
    "\n",
    "3. pop() - penhapusan data yang terdapat di posisi top dari stack\n",
    "\n",
    "4. peek() - informasi data yang terletak pada posisi top\n",
    "\n",
    "5. isEmpty() - untuk memeriksa apakah stack dalam keadaan kosong\n",
    "\n",
    "6. size() - informasi jumlah data yang tedapat pada stack"
   ]
  },
  {
   "cell_type": "code",
   "execution_count": 5,
   "metadata": {},
   "outputs": [
    {
     "name": "stdout",
     "output_type": "stream",
     "text": [
      "hiqaf\n"
     ]
    }
   ],
   "source": [
    "def stack():\n",
    "  s = []\n",
    "  return s\n",
    "def push(s, data):\n",
    "  s.append(data)\n",
    "def pop(s):\n",
    "  return s.pop()\n",
    "def peek(s):\n",
    "  return s[len(s)-1]\n",
    "def isEmpty(s):\n",
    "  return s==[]\n",
    "def size(s):\n",
    "  return len(s)\n",
    "\n",
    "def reverse_word(string):\n",
    "  s = stack()\n",
    "  for char in string:\n",
    "    push(s, char)\n",
    "  reversed_string = \"\"\n",
    "  while not isEmpty(s):\n",
    "    char = pop(s)\n",
    "    reversed_string += char\n",
    "  return reversed_string\n",
    "print(reverse_word('faqih'))"
   ]
  },
  {
   "attachments": {},
   "cell_type": "markdown",
   "metadata": {},
   "source": [
    "latihan - 1\n",
    "\n",
    "buatlah fucntion untuk 'reverse word' dengan menggunakan konsep stacks, misalkan kata 'faqih' menjadi 'hiqfa'!"
   ]
  },
  {
   "attachments": {},
   "cell_type": "markdown",
   "metadata": {},
   "source": [
    "1.2 Delimiter matching\n",
    "\n",
    "mengecek apakah kurung buka dan kurung tutup '(){}[]'\n",
    "itu sesuai dengan persamaan matematika menggunakan fungsi paranthesesCheck()\n",
    "\n",
    "- parantheses sering digunkana untuk urutan penyelesain dalam persamaan matematika\n",
    "seperti x = 5 x (4 + 5) / (( 3 + 2 ) x ( 10 - 8 ) )"
   ]
  },
  {
   "cell_type": "code",
   "execution_count": 2,
   "metadata": {},
   "outputs": [
    {
     "name": "stdout",
     "output_type": "stream",
     "text": [
      "True\n",
      "kurung buka dan kurung tutup tidak cocok\n",
      "jumlah kurung buka lebih banyak\n",
      "False\n"
     ]
    }
   ],
   "source": [
    "def stack():\n",
    "    s = []\n",
    "    return s\n",
    "\n",
    "\n",
    "def push(s, data):\n",
    "    s.append(data)\n",
    "\n",
    "\n",
    "def pop(s):\n",
    "    data = s.pop()\n",
    "    return data\n",
    "\n",
    "\n",
    "def peek(s):\n",
    "    return s[len(s) - 1]\n",
    "\n",
    "\n",
    "def isEmpty(s):\n",
    "    return s == []\n",
    "\n",
    "\n",
    "def size(s):\n",
    "    return len(s)\n",
    "\n",
    "def paranthesescheck(strmath):\n",
    "    operandstack = stack()\n",
    "    lenmath = len(strmath)\n",
    "    openoperand = \"({[\"\n",
    "    closeoperand = \")}]\"\n",
    "    # print(lenmath)\n",
    "    i = 0\n",
    "    matched = True\n",
    "    while i < (lenmath):\n",
    "        # print(i, \"=\", strmath[i])\n",
    "        if strmath[i] in openoperand:\n",
    "            push(operandstack, strmath[i])\n",
    "            # print(operandstack)\n",
    "        elif strmath[i] in closeoperand:\n",
    "            if not (isEmpty(operandstack)):\n",
    "                top = pop(operandstack)\n",
    "                # print(\"top=\", top)\n",
    "                # print(operandstack)\n",
    "                if openoperand.index(top) == closeoperand.index(strmath[i]):\n",
    "                    matched = matched and True\n",
    "                else:\n",
    "                    matched = matched and False\n",
    "                    print(\"kurung buka dan kurung tutup tidak cocok\")\n",
    "            else:\n",
    "                matched = matched and False\n",
    "                print(\"jumlah kurung tutup lebih banyak\")\n",
    "        i = i + 1\n",
    "        \n",
    "    if not (isEmpty(operandstack)):\n",
    "        matched = False\n",
    "        print(\"jumlah kurung buka lebih banyak\")\n",
    "    return matched\n",
    "a='5 x (4 + 5 / (3 + 2) x (10 - 8))'\n",
    "isMatched=paranthesescheck(a)\n",
    "print(isMatched)\n",
    "\n",
    "print(paranthesescheck(\"5 x [4 + 5) / ((3 + 2) (10 - 8)\"))"
   ]
  },
  {
   "cell_type": "code",
   "execution_count": 18,
   "metadata": {},
   "outputs": [
    {
     "name": "stdout",
     "output_type": "stream",
     "text": [
      " asil\n"
     ]
    }
   ],
   "source": [
    "def stack():\n",
    "    p =[]\n",
    "    return p\n",
    "def isEmpty(p):\n",
    "    return (p==[])\n",
    "def push(p, data):\n",
    "    p.append(data)\n",
    "def peek(p):\n",
    "    return(p[len(p)-1])\n",
    "def hapus(p):\n",
    "    data=p.pop()\n",
    "    return(data)\n",
    "def size(p):\n",
    "    return(len(p))\n",
    "\n",
    "def reverse_word(n):\n",
    "    st = stack()\n",
    "    for i in n:\n",
    "        push(st, i)\n",
    "    s = ' '\n",
    "    while not isEmpty(st):\n",
    "        a = st.pop()\n",
    "        s +=a\n",
    "    return s\n",
    "print(reverse_word('lisa'))"
   ]
  },
  {
   "cell_type": "code",
   "execution_count": 2,
   "metadata": {},
   "outputs": [
    {
     "name": "stdout",
     "output_type": "stream",
     "text": [
      "True\n",
      "Jumlah Kurung Buka Lebih banyak\n",
      "False\n",
      "Kurung Buka dan Kurung Tutup tidak Cocok\n",
      "False\n"
     ]
    }
   ],
   "source": [
    "def stack():\n",
    "    s = []\n",
    "    return s\n",
    "def push(s, data):\n",
    "    s.append(data)\n",
    "def pop(s):\n",
    "    data = s.pop()\n",
    "    return data\n",
    "def peek(s):\n",
    "    return s[len(s) - 1]\n",
    "def isEmpety(s):\n",
    "    return s == []\n",
    "def size(s):\n",
    "    return len(s)\n",
    "\n",
    "def paranthesesCheck(strMath):\n",
    "    operandStack = stack()\n",
    "    lenMath = len(strMath)\n",
    "    openOperand = \"({[\"\n",
    "    closeOperand = \")}]\"\n",
    "    # print(lenMath)\n",
    "    i = 0\n",
    "    Matched = True\n",
    "    while i < (lenMath):\n",
    "        # print(i, \"=\", strMath[i])\n",
    "        if strMath[i] in openOperand:\n",
    "            push(operandStack, strMath[i])\n",
    "            # print(operandStack)\n",
    "        elif strMath[i] in closeOperand:\n",
    "            if not (isEmpety(operandStack)):\n",
    "                top = pop(operandStack)\n",
    "                # print(\"top =\", top)\n",
    "                # print(operandStack)\n",
    "                if openOperand.index(top) == closeOperand.index(strMath[i]):\n",
    "                    Matched = Matched and True\n",
    "                else:\n",
    "                    Matched = Matched and False\n",
    "                    print(\"Kurung Buka dan Kurung Tutup tidak Cocok\")\n",
    "            else:\n",
    "                Matched = Matched and False\n",
    "                print(\"Jumlah Kurung Tutup lebih banyak\")\n",
    "        i = i + 1\n",
    "        # print(Matched)\n",
    "    if not (isEmpety(operandStack)):\n",
    "        Matched = False\n",
    "        print(\"Jumlah Kurung Buka Lebih banyak\")\n",
    "    return Matched\n",
    "\n",
    "print(paranthesesCheck('5 x (4 + 5) / ((3 + 2) x (10 - 8))'))\n",
    "print(paranthesesCheck('5 x (4 + 5) / ((3 + 2) x (10 - 8)'))\n",
    "print(paranthesesCheck('5 x (4 + 5} / ((3 + 2) x (10 - 8))'))"
   ]
  },
  {
   "cell_type": "code",
   "execution_count": null,
   "metadata": {},
   "outputs": [],
   "source": [
    "def stack(): \n",
    "    s = []\n",
    "    return s\n",
    "def push(s, data):\n",
    "    s.append(data)\n",
    "def pop(s):\n",
    "    data = s.pop()\n",
    "    return data\n",
    "def peek(s):\n",
    "    return s[len(s) - 1]\n",
    "def isEmpty(s):\n",
    "    return s == []\n",
    "def size(s):\n",
    "    return len(s)\n",
    "\n",
    "def evaluatePost(postStr):\n",
    "    operandStack = stack()\n",
    "    # stack = []\n",
    "    operator = \"+-/*\"\n",
    "    for i in postStr:\n",
    "        if i not in operator:\n",
    "            push(operandStack, i)\n",
    "        else:\n",
    "            operand2 = pop(operandStack)\n",
    "            operand1 = pop(operandStack)\n",
    "            if i == \"+\":\n",
    "                result = float(operand1) + float(operand2)\n",
    "            elif i == \"-\":\n",
    "                result = float(operand1) - float(operand2)\n",
    "            elif i == '/':\n",
    "                result = float(operand1) / float(operand2)\n",
    "            else:\n",
    "                result = float(operand1) * float(operand2)\n",
    "            push(operandStack,result)\n",
    "    return (pop(operandStack))\n",
    "\n",
    "print(evaluatePost('45-6*'))\n"
   ]
  },
  {
   "cell_type": "code",
   "execution_count": 2,
   "metadata": {},
   "outputs": [
    {
     "name": "stdout",
     "output_type": "stream",
     "text": [
      "['d']\n"
     ]
    }
   ],
   "source": [
    "def push(s,data):\n",
    "    s.append(data)\n",
    "s = []\n",
    "push(s,'d')\n",
    "print(s)"
   ]
  },
  {
   "cell_type": "code",
   "execution_count": 1,
   "metadata": {},
   "outputs": [
    {
     "name": "stdout",
     "output_type": "stream",
     "text": [
      "Posisi paling atas stack: 5\n"
     ]
    }
   ],
   "source": [
    "def peek(stack):\n",
    "    return stack[-1]\n",
    "\n",
    "# Contoh penggunaan\n",
    "stack = [1, 2, 3, 4, 5]\n",
    "print(\"Posisi paling atas stack:\", peek(stack))"
   ]
  },
  {
   "cell_type": "code",
   "execution_count": null,
   "metadata": {},
   "outputs": [],
   "source": [
    "\"\"\"\"\n",
    "s = stack kosong\n",
    "while (seluruh string belum di baca) {\n",
    "    baca simbol selanjutnya (sym)\n",
    "    if sym adalah operand\n",
    "        ash\n",
    "        push sym\n",
    "        if oihiaesdc\n",
    "            adsch\n",
    "    jika sym selain operand\n",
    "        opKanan = pop stack\n",
    "        opKiri = pop stack\n",
    "        hitung hasil\n",
    "        push hasil\n",
    "    if jua=ika\n",
    "        hao\n",
    "\n",
    "\n",
    "\n",
    "}\n",
    "pop stack untuk memperolah hasil akhir\n",
    "\n",
    "else if ioqhed\n",
    "    \n",
    "\n",
    "\"\"\""
   ]
  }
 ],
 "metadata": {
  "kernelspec": {
   "display_name": "Python 3",
   "language": "python",
   "name": "python3"
  },
  "language_info": {
   "codemirror_mode": {
    "name": "ipython",
    "version": 3
   },
   "file_extension": ".py",
   "mimetype": "text/x-python",
   "name": "python",
   "nbconvert_exporter": "python",
   "pygments_lexer": "ipython3",
   "version": "3.10.6"
  },
  "orig_nbformat": 4,
  "vscode": {
   "interpreter": {
    "hash": "aa9b69650ec84f953112b323fbfce5eb066dfa9abae54f238ba7b32e69f66863"
   }
  }
 },
 "nbformat": 4,
 "nbformat_minor": 2
}
