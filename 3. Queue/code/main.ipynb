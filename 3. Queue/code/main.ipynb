{
 "cells": [
  {
   "cell_type": "code",
   "execution_count": 2,
   "metadata": {},
   "outputs": [
    {
     "name": "stdout",
     "output_type": "stream",
     "text": [
      "peserta permainan = ['zaki', 'diana', 'rafa', 'anton', 'sari', 'rita', 'andi']\n",
      "hitungan ke-1 = ['andi', 'zaki', 'diana', 'rafa', 'anton', 'sari', 'rita']\n",
      "hitungan ke-2 = ['rita', 'andi', 'zaki', 'diana', 'rafa', 'anton', 'sari']\n",
      "peserta permainan = ['rita', 'andi', 'zaki', 'diana', 'rafa', 'anton']\n",
      "hitungan ke-1 = ['anton', 'rita', 'andi', 'zaki', 'diana', 'rafa']\n",
      "hitungan ke-2 = ['rafa', 'anton', 'rita', 'andi', 'zaki', 'diana']\n",
      "peserta permainan = ['rafa', 'anton', 'rita', 'andi', 'zaki']\n",
      "hitungan ke-1 = ['zaki', 'rafa', 'anton', 'rita', 'andi']\n",
      "hitungan ke-2 = ['andi', 'zaki', 'rafa', 'anton', 'rita']\n",
      "peserta permainan = ['andi', 'zaki', 'rafa', 'anton']\n",
      "hitungan ke-1 = ['anton', 'andi', 'zaki', 'rafa']\n",
      "hitungan ke-2 = ['rafa', 'anton', 'andi', 'zaki']\n",
      "peserta permainan = ['rafa', 'anton', 'andi']\n",
      "hitungan ke-1 = ['andi', 'rafa', 'anton']\n",
      "hitungan ke-2 = ['anton', 'andi', 'rafa']\n",
      "peserta permainan = ['anton', 'andi']\n",
      "hitungan ke-1 = ['andi', 'anton']\n",
      "hitungan ke-2 = ['anton', 'andi']\n",
      "peserta permainan = ['anton']\n"
     ]
    },
    {
     "data": {
      "text/plain": [
       "'anton'"
      ]
     },
     "execution_count": 2,
     "metadata": {},
     "output_type": "execute_result"
    }
   ],
   "source": [
    "def createQueue():\n",
    "    q = []\n",
    "    return q\n",
    "def enqueue(q, data):\n",
    "    q.insert(0, data)\n",
    "    return q\n",
    "def dequeue(q):\n",
    "    data = q.pop()\n",
    "    return data\n",
    "def isEmpty(q):\n",
    "    return q == []\n",
    "def size(q):\n",
    "    return len(q)\n",
    "\n",
    "def ularNaga(nama, hitungan):\n",
    "    gameQueue = createQueue()\n",
    "    for namaAnak in nama:\n",
    "        enqueue(gameQueue, namaAnak)\n",
    "    print(f\"peserta permainan = {gameQueue}\")\n",
    "    while size(gameQueue) > 1:\n",
    "        for i in range(hitungan):\n",
    "            enqueue(gameQueue, dequeue(gameQueue))\n",
    "            print(f\"hitungan ke-{i} = {gameQueue}\")\n",
    "        dequeue(gameQueue)\n",
    "        print(f\"peserta permainan = {gameQueue}\")\n",
    "    return dequeue(gameQueue)\n",
    "\n",
    "ularNaga([\"andi\", \"rita\", \"sari\", \"anton\", \"rafa\", \"diana\", \"zaki\"], 2)"
   ]
  }
 ],
 "metadata": {
  "kernelspec": {
   "display_name": "Python 3",
   "language": "python",
   "name": "python3"
  },
  "language_info": {
   "codemirror_mode": {
    "name": "ipython",
    "version": 3
   },
   "file_extension": ".py",
   "mimetype": "text/x-python",
   "name": "python",
   "nbconvert_exporter": "python",
   "pygments_lexer": "ipython3",
   "version": "3.10.6"
  },
  "orig_nbformat": 4,
  "vscode": {
   "interpreter": {
    "hash": "aa9b69650ec84f953112b323fbfce5eb066dfa9abae54f238ba7b32e69f66863"
   }
  }
 },
 "nbformat": 4,
 "nbformat_minor": 2
}
