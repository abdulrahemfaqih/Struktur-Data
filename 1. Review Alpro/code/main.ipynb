{
 "cells": [
  {
   "attachments": {},
   "cell_type": "markdown",
   "metadata": {},
   "source": [
    "REVIEW MATERI ALGORITMA DAN PEMROGRAMAN DASAR"
   ]
  },
  {
   "attachments": {},
   "cell_type": "markdown",
   "metadata": {},
   "source": [
    "1. mengecek bilangan genap dan ganjil"
   ]
  },
  {
   "cell_type": "code",
   "execution_count": null,
   "metadata": {},
   "outputs": [],
   "source": [
    "# mengecek bilangan ganjil atau genap\n",
    "def oddEven(awal,akhir):\n",
    "    ganjil,genap = [],[]\n",
    "    one = awal\n",
    "    two = akhir\n",
    "    while one <= two:\n",
    "        if one % 2 == 0:\n",
    "            genap.append(one)\n",
    "        else:ganjil.append(one)\n",
    "        one += 1\n",
    "    return ganjil,genap\n",
    "\n",
    "print(oddEven(1,10))\n",
    "\n",
    "\n",
    "def odd_even(start, end):\n",
    "    odd, even = [], []\n",
    "    for num in range(start, end + 1):\n",
    "        if num % 2 == 0:\n",
    "            even.append(num)\n",
    "        else: \n",
    "            odd.append(num)\n",
    "    return odd, even\n",
    "\n",
    "print(odd_even(1,10))\n",
    "     "
   ]
  },
  {
   "attachments": {},
   "cell_type": "markdown",
   "metadata": {},
   "source": [
    "2. mengecek bilangan prima dan mencari bilangan prima dari range tertentu"
   ]
  },
  {
   "cell_type": "code",
   "execution_count": null,
   "metadata": {},
   "outputs": [],
   "source": [
    "def checkPrime(num):\n",
    "    factor = 0\n",
    "\n",
    "    for i in range(1,num + 1):\n",
    "        if num % i == 0:\n",
    "            factor += 1\n",
    "    if factor == 2:\n",
    "        return True\n",
    "    else: return False\n",
    "\n",
    "print(checkPrime(10))"
   ]
  },
  {
   "cell_type": "code",
   "execution_count": null,
   "metadata": {},
   "outputs": [],
   "source": [
    "def checkPrime(num):\n",
    "    if num < 2:\n",
    "        return False\n",
    "\n",
    "    for i in range(2, num):\n",
    "        if num % i == 0:\n",
    "            return False\n",
    "\n",
    "    return True\n",
    "\n",
    "print(checkPrime(17))"
   ]
  },
  {
   "cell_type": "code",
   "execution_count": null,
   "metadata": {},
   "outputs": [],
   "source": [
    "# mendapatkan bilangan prima dari range tertentu\n",
    "def isPrime(num):\n",
    "  for i in range(2, num): \n",
    "    if (num % i == 0): \n",
    "      return False\n",
    "\n",
    "  return True\n",
    "\n",
    "def getPrimes(n):\n",
    "  primes = []\n",
    "  for num in range(2, n + 1):  \n",
    "\n",
    "    if isPrime(num): \n",
    "      primes.append(num) \n",
    "\n",
    "  return primes\n",
    "\n",
    "primes = getPrimes(20) \n",
    "print(primes) "
   ]
  },
  {
   "cell_type": "code",
   "execution_count": null,
   "metadata": {},
   "outputs": [],
   "source": [
    "def check_prime(num):\n",
    "\n",
    " # Melakukan iterasi pada nilai range dari 2 hingga angka - 1\n",
    "  for i in range(2, num): \n",
    "      if (num % i) == 0: \n",
    "          return False\n",
    "  return True\n",
    "\n",
    "print('Bilangan Prima dari rentang 1 sampai 10 :')\n",
    "# Iterasi dimulai dari angka 2 hingga 10  \n",
    "for n in range(2, 11): \n",
    "    if check_prime(n): \n",
    "        print(n) \n"
   ]
  },
  {
   "cell_type": "code",
   "execution_count": null,
   "metadata": {},
   "outputs": [],
   "source": [
    "def find_prime_in_range(start, end):\n",
    "\n",
    "    # Melompati seluruh angka yang bukan prima\n",
    "    for num in range(start, end + 1):\n",
    "\n",
    "        # Pengecekan apakah angka lebih dari satu\n",
    "        if num > 1:\n",
    "\n",
    "            # Memulai loop dengan 2, memeriksa apakah numer tersebut habis dibagi\n",
    "            for i in range(2,num):\n",
    "\n",
    "                # Jika angka habis dibagi, maka itu adalah angka yang tidak prima\n",
    "                if (num % i) == 0:\n",
    "                    break\n",
    "\n",
    "            # Menampilkan antara start dan end yang bersifat prima\n",
    "            else:\n",
    "                print(num)\n",
    "\n",
    "\n",
    "find_prime_in_range(1,10)"
   ]
  },
  {
   "attachments": {},
   "cell_type": "markdown",
   "metadata": {},
   "source": [
    "3. menghitung faktorial dari suatu bilangan"
   ]
  },
  {
   "cell_type": "code",
   "execution_count": null,
   "metadata": {},
   "outputs": [],
   "source": [
    "def countFactorial(num):\n",
    "    result = 1\n",
    "    for i in range(1, num + 1):\n",
    "        result *= i\n",
    "\n",
    "    return result\n",
    "\n",
    "print(countFactorial(6))"
   ]
  },
  {
   "cell_type": "code",
   "execution_count": null,
   "metadata": {},
   "outputs": [],
   "source": [
    "def factorial(num):\n",
    "    if num == 0:\n",
    "        return 1\n",
    "    else:\n",
    "        return num * factorial(num - 1)\n",
    "num = 7\n",
    "print(f'{num}! = {factorial(num)}')\n",
    "    \n"
   ]
  },
  {
   "cell_type": "code",
   "execution_count": null,
   "metadata": {},
   "outputs": [],
   "source": [
    "def factor(num):\n",
    "    result = 1\n",
    "    if num == 0:\n",
    "        return 1\n",
    "    else:\n",
    "        for i in range(num,0,-1):\n",
    "            result *= i\n",
    "    return result\n",
    "\n",
    "print(factor(6))\n"
   ]
  },
  {
   "attachments": {},
   "cell_type": "markdown",
   "metadata": {},
   "source": [
    "4. program untuk menhitung perkalian dua buah matriks 3x3"
   ]
  },
  {
   "cell_type": "code",
   "execution_count": null,
   "metadata": {},
   "outputs": [],
   "source": [
    "def multiplyMatrix(A, B): \n",
    "  \n",
    "    # Memeriksa jumlah kolom pada A dan baris pada B \n",
    "    if len(A[0]) != len(B): \n",
    "        return\n",
    "\n",
    "    # Membuat result matriks dengan ukuran  \n",
    "    # baris pada A dan kolom pada B \n",
    "    # Hasil = [baris_A][kolom_B] \n",
    "    result = [[0 for j in range(len(B[0]))]  for i in range(len(A))] \n",
    "  \n",
    "    # Mulai Perulangan ke setiap elemen dimana  \n",
    "    # baris dari result hasil akan sama dengan \n",
    "    # baris A dan Kolom dari result hasilnya sama \n",
    "    # dengan Kolom dari B \n",
    "    for i in range(len(A)): \n",
    "        for j in range(len(B[0])): \n",
    "            for k in range(len(B)): \n",
    "                result[i][j] += A[i][k] * B[k][j] \n",
    "  \n",
    "    return result \n",
    "\n",
    "# Definisi Matrik A \n",
    "A = [[1, 2, 3], \n",
    "     [4, 5, 6], \n",
    "     [7, 8, 9]] \n",
    "\n",
    "# Definisi Matrik B \n",
    "B = [[2, 0, 1], \n",
    "     [3, 0, 0], \n",
    "     [5, 1, 1]] \n",
    "\n",
    "print(\"Hasil perkalian antara matriks dari two 3 x 3 matrix\")\n",
    "print(multiplyMatrix(A, B)) \n"
   ]
  },
  {
   "attachments": {},
   "cell_type": "markdown",
   "metadata": {},
   "source": [
    "buatkan mereverse list \n",
    " - [1,2,3] menjadi [3,2,1] \n",
    " - elemen pada list merupakan inputan daru user"
   ]
  },
  {
   "cell_type": "code",
   "execution_count": null,
   "metadata": {},
   "outputs": [],
   "source": [
    "def reversedList():\n",
    "    pass"
   ]
  },
  {
   "cell_type": "code",
   "execution_count": 36,
   "metadata": {},
   "outputs": [
    {
     "ename": "ValueError",
     "evalue": "invalid literal for int() with base 10: ''",
     "output_type": "error",
     "traceback": [
      "\u001b[1;31m---------------------------------------------------------------------------\u001b[0m",
      "\u001b[1;31mValueError\u001b[0m                                Traceback (most recent call last)",
      "\u001b[1;32mf:\\SEMESTER 2\\Struktur Data\\1. Review Alpro\\code\\main.ipynb Cell 18\u001b[0m in \u001b[0;36m2\n\u001b[0;32m     <a href='vscode-notebook-cell:/f%3A/SEMESTER%202/Struktur%20Data/1.%20Review%20Alpro/code/main.ipynb#X23sZmlsZQ%3D%3D?line=17'>18</a>\u001b[0m     \u001b[39mprint\u001b[39m(matrix)\n\u001b[0;32m     <a href='vscode-notebook-cell:/f%3A/SEMESTER%202/Struktur%20Data/1.%20Review%20Alpro/code/main.ipynb#X23sZmlsZQ%3D%3D?line=20'>21</a>\u001b[0m     \u001b[39m# for i in range(COLUMN):\u001b[39;00m\n\u001b[0;32m     <a href='vscode-notebook-cell:/f%3A/SEMESTER%202/Struktur%20Data/1.%20Review%20Alpro/code/main.ipynb#X23sZmlsZQ%3D%3D?line=21'>22</a>\u001b[0m     \u001b[39m#     print(matrix[i])\u001b[39;00m\n\u001b[1;32m---> <a href='vscode-notebook-cell:/f%3A/SEMESTER%202/Struktur%20Data/1.%20Review%20Alpro/code/main.ipynb#X23sZmlsZQ%3D%3D?line=22'>23</a>\u001b[0m createMatrix()\n",
      "\u001b[1;32mf:\\SEMESTER 2\\Struktur Data\\1. Review Alpro\\code\\main.ipynb Cell 18\u001b[0m in \u001b[0;36m1\n\u001b[0;32m     <a href='vscode-notebook-cell:/f%3A/SEMESTER%202/Struktur%20Data/1.%20Review%20Alpro/code/main.ipynb#X23sZmlsZQ%3D%3D?line=9'>10</a>\u001b[0m     \u001b[39mfor\u001b[39;00m i \u001b[39min\u001b[39;00m \u001b[39mrange\u001b[39m(COLUMN):\n\u001b[0;32m     <a href='vscode-notebook-cell:/f%3A/SEMESTER%202/Struktur%20Data/1.%20Review%20Alpro/code/main.ipynb#X23sZmlsZQ%3D%3D?line=10'>11</a>\u001b[0m         matrix[i]\u001b[39m.\u001b[39mappend(\u001b[39m0\u001b[39m)\n\u001b[1;32m---> <a href='vscode-notebook-cell:/f%3A/SEMESTER%202/Struktur%20Data/1.%20Review%20Alpro/code/main.ipynb#X23sZmlsZQ%3D%3D?line=11'>12</a>\u001b[0m jumlahData \u001b[39m=\u001b[39m \u001b[39mint\u001b[39;49m(\u001b[39minput\u001b[39;49m(\u001b[39m'\u001b[39;49m\u001b[39mjumlah data = \u001b[39;49m\u001b[39m'\u001b[39;49m))\n\u001b[0;32m     <a href='vscode-notebook-cell:/f%3A/SEMESTER%202/Struktur%20Data/1.%20Review%20Alpro/code/main.ipynb#X23sZmlsZQ%3D%3D?line=12'>13</a>\u001b[0m \u001b[39mfor\u001b[39;00m i \u001b[39min\u001b[39;00m \u001b[39mrange\u001b[39m(jumlahData):\n\u001b[0;32m     <a href='vscode-notebook-cell:/f%3A/SEMESTER%202/Struktur%20Data/1.%20Review%20Alpro/code/main.ipynb#X23sZmlsZQ%3D%3D?line=13'>14</a>\u001b[0m     baris \u001b[39m=\u001b[39m \u001b[39mint\u001b[39m(\u001b[39minput\u001b[39m(\u001b[39m'\u001b[39m\u001b[39mbaris ke ?\u001b[39m\u001b[39m'\u001b[39m))\n",
      "\u001b[1;31mValueError\u001b[0m: invalid literal for int() with base 10: ''"
     ]
    }
   ],
   "source": [
    "\n",
    "def createMatrix():\n",
    "    global matrix\n",
    "    matrix = []\n",
    "    ROWS = int(input('Jumlah baris = '))\n",
    "    COLUMN = int(input('Jumlah kolom = '))\n",
    "\n",
    "    for i in range(ROWS):\n",
    "        matrix.append(([]))\n",
    "    for i in range(COLUMN):\n",
    "        for i in range(ROWS):\n",
    "            matrix[i].append(0)\n",
    "    jumlahData = int(input('jumlah data = '))\n",
    "    for i in range(jumlahData):\n",
    "        baris = int(input('baris ke ?'))\n",
    "        kolom = int(input('kolom ke ?'))\n",
    "        elemen = int(input(f'matrix [{baris},{kolom}] = '))\n",
    "        # matrix[baris][kolom] = elemen\n",
    "    print(matrix)\n",
    "\n",
    "    \n",
    "    # for i in range(COLUMN):\n",
    "    #     print(matrix[i])\n",
    "createMatrix()\n",
    "\n"
   ]
  },
  {
   "cell_type": "code",
   "execution_count": 39,
   "metadata": {},
   "outputs": [
    {
     "name": "stdout",
     "output_type": "stream",
     "text": [
      "[[0, 0, 0], [0, 0, 0]]\n"
     ]
    }
   ],
   "source": [
    "a = []\n",
    "baris = int(input('baris = '))\n",
    "kolom = int(input('kolom = '))\n",
    "for i in range(baris):\n",
    "    a.append([])\n",
    "for i in range(kolom):\n",
    "    for i in range(baris):\n",
    "        a[i].append(0)\n",
    "# for i in range(baris):\n",
    "#     print(a[i])\n",
    "print(a)\n",
    "\n",
    "\n"
   ]
  },
  {
   "cell_type": "code",
   "execution_count": 40,
   "metadata": {},
   "outputs": [
    {
     "name": "stdout",
     "output_type": "stream",
     "text": [
      "[[2, 2], [3, 4]]\n"
     ]
    }
   ],
   "source": [
    "# Membuat matriks 2x2\n",
    "matrix = [[1, 2], [3, 4]]\n",
    "\n",
    "# Input baris dan kolom yang ingin diisi\n",
    "baris = int(input(\"Masukkan baris: \"))\n",
    "kolom = int(input(\"Masukkan kolom: \"))\n",
    "\n",
    "# Input elemen yang ingin ditambahkan\n",
    "elemen = int(input(\"Masukkan elemen: \"))\n",
    "\n",
    "# Menambahkan elemen pada matriks sesuai input baris dan kolom\n",
    "matrix[baris-1][kolom-1] = elemen\n",
    "\n",
    "# Menampilkan matriks hasil penambahan elemen\n",
    "print(matrix)\n"
   ]
  }
 ],
 "metadata": {
  "kernelspec": {
   "display_name": "Python 3",
   "language": "python",
   "name": "python3"
  },
  "language_info": {
   "codemirror_mode": {
    "name": "ipython",
    "version": 3
   },
   "file_extension": ".py",
   "mimetype": "text/x-python",
   "name": "python",
   "nbconvert_exporter": "python",
   "pygments_lexer": "ipython3",
   "version": "3.10.6"
  },
  "orig_nbformat": 4,
  "vscode": {
   "interpreter": {
    "hash": "aa9b69650ec84f953112b323fbfce5eb066dfa9abae54f238ba7b32e69f66863"
   }
  }
 },
 "nbformat": 4,
 "nbformat_minor": 2
}
